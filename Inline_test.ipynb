{
  "cells": [
    {
      "cell_type": "markdown",
      "metadata": {
        "id": "4OUQ7ZujYCmO"
      },
      "source": [
        "## Задача\n",
        "Создайте модель, обрабатывающую фрагмент текста и определяющую\n",
        "какой вид продукции в нём содержится.\n",
        "\n",
        "Выполненное задание пришлите ссылкой на Google Collab.\n",
        "Датасет поделите на 80% / 20% - обучающая/тестовая выборки.\n",
        "\n",
        "Используйте библиотеку PyTorch\n",
        "\n",
        "Датасет: https://axe.inline-ltd.ru/data/meatinfo.csv\n",
        "\n",
        "Виды продукции (брать только виды продукции, для которых в датасете есть не менее 500 примеров):\n",
        "\n",
        "Баранина\n",
        "Ягнятина\n",
        "Индейка\n",
        "Говядина\n",
        "Свинина\n",
        "Кура\n",
        "Цыплено\n",
        "Гусь\n",
        "Буйволятина\n",
        "Оленина\n",
        "Конина\n",
        "Телятина\n",
        "Кролик\n",
        "Утка\n",
        "Куропатка\n",
        "Перепел\n",
        "Глухарь\n",
        "Страус\n",
        "Заяц\n",
        "Кенгуру\n",
        "Изюбр\n",
        "Кабан\n",
        "Коза\n",
        "Косуля\n",
        "Лось\n",
        "Марал\n",
        "Медвежатина\n",
        "Бобер\n",
        "Цесарка\n",
        "Нутрия\n",
        "Рябчик\n",
        "Тетерев\n",
        "Фазан\n",
        "Як\n",
        "\n",
        "\n",
        "Примеры входных текстов и видов продукции:\n",
        "Набор для бульона свиной Набор для бульона свиной, в наличии, 76р/кг. -> Свинина\n",
        "\n",
        "Мясо премиум Предлагаем котлетное мясо мраморной говядины. -> Говядина\n",
        "\n",
        "спинка цб -> Цыпленок\n",
        "\n",
        "Проверьте вашу модель на образцах\n",
        "Говядина блочная 2 сорт в наличии ООО \"АгроСоюз\" реализует блочную говядину 2 сорт (80/20)\n",
        "Свободный объем 8 тонн Самовывоз или доставка. Все подробности по телефону.\n",
        "\n",
        "Куриная разделка Продам кур и куриную разделку гост и халяль по хорошей цене .Тел:\n",
        "\n",
        "Говяжью мукозу Продам говяжью мукозу в охл и замороженном виде. Есть объем."
      ]
    },
    {
      "cell_type": "markdown",
      "metadata": {
        "id": "xzWjCmfcJq7-"
      },
      "source": [
        "```py\n",
        "!pip install -U pip setuptools wheel\n",
        "!pip install -U spacy\n",
        "!python -m spacy download ru_core_news_lg\n",
        "```"
      ]
    },
    {
      "cell_type": "code",
      "execution_count": null,
      "metadata": {
        "id": "whETZCF1PAX2"
      },
      "outputs": [],
      "source": [
        "import pandas as pd\n",
        "import torch\n",
        "import re\n",
        "from torch import nn\n",
        "import torch.optim as optim\n",
        "from torch.utils.data import Dataset, DataLoader\n",
        "from torchtext.data.utils import get_tokenizer\n",
        "from torchtext.vocab import build_vocab_from_iterator\n",
        "from pymystem3 import Mystem\n",
        "from torchtext import data\n",
        "from sklearn.preprocessing import LabelEncoder\n",
        "from imblearn.over_sampling import SMOTE\n",
        "from sklearn.model_selection import train_test_split\n",
        "from sklearn.feature_extraction.text import TfidfVectorizer\n",
        "from torch import optim\n",
        "from tqdm.notebook import tqdm\n",
        "import numpy as np\n",
        "import scipy\n",
        "import nltk\n",
        "from nltk.corpus import stopwords as nltk_stopwords\n",
        "from sklearn.metrics import confusion_matrix, classification_report,accuracy_score"
      ]
    },
    {
      "cell_type": "code",
      "execution_count": null,
      "metadata": {
        "colab": {
          "base_uri": "https://localhost:8080/"
        },
        "id": "v2iAqrUsPe55",
        "outputId": "6e3ed6a9-ab22-4285-f846-48507dd514a9"
      },
      "outputs": [
        {
          "output_type": "stream",
          "name": "stdout",
          "text": [
            "<class 'pandas.core.frame.DataFrame'>\n",
            "RangeIndex: 17893 entries, 0 to 17892\n",
            "Data columns (total 2 columns):\n",
            " #   Column  Non-Null Count  Dtype \n",
            "---  ------  --------------  ----- \n",
            " 0   text    17893 non-null  object\n",
            " 1   mtype   17892 non-null  object\n",
            "dtypes: object(2)\n",
            "memory usage: 279.7+ KB\n"
          ]
        }
      ],
      "source": [
        "df = pd.read_csv('https://axe.inline-ltd.ru/data/meatinfo.csv', sep = ';')\n",
        "df.info()"
      ]
    },
    {
      "cell_type": "code",
      "execution_count": null,
      "metadata": {
        "colab": {
          "base_uri": "https://localhost:8080/"
        },
        "id": "lkkEWbfUQEA0",
        "outputId": "68e84f8b-14ac-4f94-8ded-3411312d8882"
      },
      "outputs": [
        {
          "output_type": "execute_result",
          "data": {
            "text/plain": [
              "Говядина                                                                                   8422\n",
              "Свинина                                                                                    3050\n",
              "Кура                                                                                       1571\n",
              "Индейка                                                                                    1337\n",
              "Баранина                                                                                   1116\n",
              "Цыпленок                                                                                    942\n",
              "Кролик                                                                                      334\n",
              "Утка                                                                                        195\n",
              "Оленина                                                                                     193\n",
              "Конина                                                                                      176\n",
              "Гусь                                                                                        125\n",
              "Телятина                                                                                     98\n",
              "Ягнятина                                                                                     76\n",
              "Буйволятина                                                                                  75\n",
              "Перепел                                                                                      54\n",
              "Кабан                                                                                        24\n",
              "Лось                                                                                         20\n",
              "Страус                                                                                       10\n",
              "Косуля                                                                                        8\n",
              "Куропатка                                                                                     7\n",
              "Цесарка                                                                                       7\n",
              "Марал                                                                                         7\n",
              "Медвежатина                                                                                   4\n",
              "Фазан                                                                                         4\n",
              "свинина                                                                                       3\n",
              "Изюбр                                                                                         3\n",
              "Парагвай                                                                                      2\n",
              "цыпленок                                                                                      2\n",
              "индейка                                                                                       2\n",
              "Feb-20                                                                                        2\n",
              "Нутрия                                                                                        2\n",
              "Як                                                                                            2\n",
              "Заяц                                                                                          2\n",
              "Кенгуру                                                                                       2\n",
              "Говядина, полутуши, 1 категория,  охл., Россия, подвес, В наличии, 10 тонн, 270 руб. кг       1\n",
              "утка                                                                                          1\n",
              "Глухарь                                                                                       1\n",
              "говядина                                                                                      1\n",
              "Тетерев                                                                                       1\n",
              "Рябчик                                                                                        1\n",
              "свиниеа                                                                                       1\n",
              " Лопаточная часть (Chuck) буйвол                                                              1\n",
              "125р.                                                                                         1\n",
              "OFFAL EXP №4407 Аргентина                                                                     1\n",
              "(OFFAL EXP №4407 Аргентина)                                                                   1\n",
              "Mar-20                                                                                        1\n",
              "295,00 руб|кг                                                                                 1\n",
              "Коза                                                                                          1\n",
              "Бобер                                                                                         1\n",
              "Name: mtype, dtype: int64"
            ]
          },
          "metadata": {},
          "execution_count": 3
        }
      ],
      "source": [
        "df['mtype'].value_counts()"
      ]
    },
    {
      "cell_type": "code",
      "execution_count": null,
      "metadata": {
        "colab": {
          "base_uri": "https://localhost:8080/",
          "height": 36
        },
        "id": "PQAXR8btQq7x",
        "outputId": "ebf57dc4-467c-45c9-e957-f625db0af22d"
      },
      "outputs": [
        {
          "output_type": "execute_result",
          "data": {
            "text/plain": [
              "'Антрекот (филейный край) охл. Москва.\\nАнтрекот (филейный край) говяжий охлажденный .'"
            ],
            "application/vnd.google.colaboratory.intrinsic+json": {
              "type": "string"
            }
          },
          "metadata": {},
          "execution_count": 4
        }
      ],
      "source": [
        "df['text'].iloc[100]"
      ]
    },
    {
      "cell_type": "markdown",
      "metadata": {
        "id": "ouxR8e-vZh22"
      },
      "source": [
        "#### Преобразуем все виды продукции нижний регистр и сделаем замену неправльно написанных элементов в столбце mtype на необходимые категории"
      ]
    },
    {
      "cell_type": "code",
      "execution_count": null,
      "metadata": {
        "colab": {
          "base_uri": "https://localhost:8080/"
        },
        "id": "XzaAj__SQuPN",
        "outputId": "e29022a8-f344-4c10-ab0d-82f7d81e8dcf"
      },
      "outputs": [
        {
          "output_type": "execute_result",
          "data": {
            "text/plain": [
              "говядина                       8424\n",
              "свинина                        3054\n",
              "кура                           1571\n",
              "индейка                        1339\n",
              "баранина                       1116\n",
              "цыпленок                        944\n",
              "кролик                          334\n",
              "утка                            196\n",
              "оленина                         193\n",
              "конина                          176\n",
              "гусь                            125\n",
              "телятина                         98\n",
              "ягнятина                         76\n",
              "буйволятина                      76\n",
              "перепел                          54\n",
              "кабан                            24\n",
              "лось                             20\n",
              "страус                           10\n",
              "косуля                            8\n",
              "куропатка                         7\n",
              "цесарка                           7\n",
              "марал                             7\n",
              "фазан                             4\n",
              "медвежатина                       4\n",
              "изюбр                             3\n",
              "feb-20                            2\n",
              "нутрия                            2\n",
              "заяц                              2\n",
              "кенгуру                           2\n",
              "парагвай                          2\n",
              "як                                2\n",
              "коза                              1\n",
              "295,00 руб|кг                     1\n",
              "бобер                             1\n",
              "глухарь                           1\n",
              "mar-20                            1\n",
              "(offal exp №4407 аргентина)       1\n",
              "offal exp №4407 аргентина         1\n",
              "рябчик                            1\n",
              "тетерев                           1\n",
              "125р.                             1\n",
              "Name: mtype, dtype: int64"
            ]
          },
          "metadata": {},
          "execution_count": 5
        }
      ],
      "source": [
        "df['mtype'] = df['mtype'].str.lower()\n",
        "\n",
        "df.loc[df['mtype'] == ' лопаточная часть (chuck) буйвол ', 'mtype'] = 'буйволятина'\n",
        "df.loc[df['mtype'] == 'говядина, полутуши, 1 категория,  охл., россия, подвес, в наличии, 10 тонн, 270 руб. кг', 'mtype'] = 'говядина'\n",
        "df.loc[df['mtype'] == 'свиниеа', 'mtype'] = 'свинина'\n",
        "\n",
        "df['mtype'].value_counts()"
      ]
    },
    {
      "cell_type": "markdown",
      "metadata": {
        "id": "EfwsxuLedUs_"
      },
      "source": [
        "#### Необходимо взять только виды продукции, которые имеют не менее 500 примеров, также необходимо сделать кодирование признаков"
      ]
    },
    {
      "cell_type": "code",
      "execution_count": null,
      "metadata": {
        "colab": {
          "base_uri": "https://localhost:8080/"
        },
        "id": "M3UnVjM1Zr2I",
        "outputId": "d8754926-38ff-485a-e27c-71b0e4fb5b8a"
      },
      "outputs": [
        {
          "output_type": "execute_result",
          "data": {
            "text/plain": [
              "говядина    8424\n",
              "свинина     3054\n",
              "кура        1571\n",
              "индейка     1339\n",
              "баранина    1116\n",
              "цыпленок     944\n",
              "Name: mtype, dtype: int64"
            ]
          },
          "metadata": {},
          "execution_count": 6
        }
      ],
      "source": [
        "df = df.loc[df['mtype'].isin(list(df['mtype'].value_counts().loc[lambda x : x >= 500].index))]\n",
        "df['mtype'].value_counts()"
      ]
    },
    {
      "cell_type": "code",
      "execution_count": null,
      "metadata": {
        "colab": {
          "base_uri": "https://localhost:8080/",
          "height": 395
        },
        "id": "pZVdCJTGJq8G",
        "outputId": "f72ec3d5-ae9f-4a44-866b-d4b08990f3ab"
      },
      "outputs": [
        {
          "output_type": "display_data",
          "data": {
            "text/plain": [
              "                                      text     mtype\n",
              "0   12 частей баранина  12 частей баранина  баранина\n",
              "1  Баранина, 12 частей, зам. цена 260 руб.  баранина\n",
              "2  Баранина, 12 частей, зам. цена 315 руб.  баранина\n",
              "3                Баранина, 12 частей, охл.  баранина\n",
              "4  Баранина, 12 частей, охл. цена 220 руб.  баранина"
            ],
            "text/html": [
              "\n",
              "  <div id=\"df-45b6b8bb-3326-4675-9e18-ffe8ceb83cd6\">\n",
              "    <div class=\"colab-df-container\">\n",
              "      <div>\n",
              "<style scoped>\n",
              "    .dataframe tbody tr th:only-of-type {\n",
              "        vertical-align: middle;\n",
              "    }\n",
              "\n",
              "    .dataframe tbody tr th {\n",
              "        vertical-align: top;\n",
              "    }\n",
              "\n",
              "    .dataframe thead th {\n",
              "        text-align: right;\n",
              "    }\n",
              "</style>\n",
              "<table border=\"1\" class=\"dataframe\">\n",
              "  <thead>\n",
              "    <tr style=\"text-align: right;\">\n",
              "      <th></th>\n",
              "      <th>text</th>\n",
              "      <th>mtype</th>\n",
              "    </tr>\n",
              "  </thead>\n",
              "  <tbody>\n",
              "    <tr>\n",
              "      <th>0</th>\n",
              "      <td>12 частей баранина  12 частей баранина</td>\n",
              "      <td>баранина</td>\n",
              "    </tr>\n",
              "    <tr>\n",
              "      <th>1</th>\n",
              "      <td>Баранина, 12 частей, зам. цена 260 руб.</td>\n",
              "      <td>баранина</td>\n",
              "    </tr>\n",
              "    <tr>\n",
              "      <th>2</th>\n",
              "      <td>Баранина, 12 частей, зам. цена 315 руб.</td>\n",
              "      <td>баранина</td>\n",
              "    </tr>\n",
              "    <tr>\n",
              "      <th>3</th>\n",
              "      <td>Баранина, 12 частей, охл.</td>\n",
              "      <td>баранина</td>\n",
              "    </tr>\n",
              "    <tr>\n",
              "      <th>4</th>\n",
              "      <td>Баранина, 12 частей, охл. цена 220 руб.</td>\n",
              "      <td>баранина</td>\n",
              "    </tr>\n",
              "  </tbody>\n",
              "</table>\n",
              "</div>\n",
              "      <button class=\"colab-df-convert\" onclick=\"convertToInteractive('df-45b6b8bb-3326-4675-9e18-ffe8ceb83cd6')\"\n",
              "              title=\"Convert this dataframe to an interactive table.\"\n",
              "              style=\"display:none;\">\n",
              "        \n",
              "  <svg xmlns=\"http://www.w3.org/2000/svg\" height=\"24px\"viewBox=\"0 0 24 24\"\n",
              "       width=\"24px\">\n",
              "    <path d=\"M0 0h24v24H0V0z\" fill=\"none\"/>\n",
              "    <path d=\"M18.56 5.44l.94 2.06.94-2.06 2.06-.94-2.06-.94-.94-2.06-.94 2.06-2.06.94zm-11 1L8.5 8.5l.94-2.06 2.06-.94-2.06-.94L8.5 2.5l-.94 2.06-2.06.94zm10 10l.94 2.06.94-2.06 2.06-.94-2.06-.94-.94-2.06-.94 2.06-2.06.94z\"/><path d=\"M17.41 7.96l-1.37-1.37c-.4-.4-.92-.59-1.43-.59-.52 0-1.04.2-1.43.59L10.3 9.45l-7.72 7.72c-.78.78-.78 2.05 0 2.83L4 21.41c.39.39.9.59 1.41.59.51 0 1.02-.2 1.41-.59l7.78-7.78 2.81-2.81c.8-.78.8-2.07 0-2.86zM5.41 20L4 18.59l7.72-7.72 1.47 1.35L5.41 20z\"/>\n",
              "  </svg>\n",
              "      </button>\n",
              "      \n",
              "  <style>\n",
              "    .colab-df-container {\n",
              "      display:flex;\n",
              "      flex-wrap:wrap;\n",
              "      gap: 12px;\n",
              "    }\n",
              "\n",
              "    .colab-df-convert {\n",
              "      background-color: #E8F0FE;\n",
              "      border: none;\n",
              "      border-radius: 50%;\n",
              "      cursor: pointer;\n",
              "      display: none;\n",
              "      fill: #1967D2;\n",
              "      height: 32px;\n",
              "      padding: 0 0 0 0;\n",
              "      width: 32px;\n",
              "    }\n",
              "\n",
              "    .colab-df-convert:hover {\n",
              "      background-color: #E2EBFA;\n",
              "      box-shadow: 0px 1px 2px rgba(60, 64, 67, 0.3), 0px 1px 3px 1px rgba(60, 64, 67, 0.15);\n",
              "      fill: #174EA6;\n",
              "    }\n",
              "\n",
              "    [theme=dark] .colab-df-convert {\n",
              "      background-color: #3B4455;\n",
              "      fill: #D2E3FC;\n",
              "    }\n",
              "\n",
              "    [theme=dark] .colab-df-convert:hover {\n",
              "      background-color: #434B5C;\n",
              "      box-shadow: 0px 1px 3px 1px rgba(0, 0, 0, 0.15);\n",
              "      filter: drop-shadow(0px 1px 2px rgba(0, 0, 0, 0.3));\n",
              "      fill: #FFFFFF;\n",
              "    }\n",
              "  </style>\n",
              "\n",
              "      <script>\n",
              "        const buttonEl =\n",
              "          document.querySelector('#df-45b6b8bb-3326-4675-9e18-ffe8ceb83cd6 button.colab-df-convert');\n",
              "        buttonEl.style.display =\n",
              "          google.colab.kernel.accessAllowed ? 'block' : 'none';\n",
              "\n",
              "        async function convertToInteractive(key) {\n",
              "          const element = document.querySelector('#df-45b6b8bb-3326-4675-9e18-ffe8ceb83cd6');\n",
              "          const dataTable =\n",
              "            await google.colab.kernel.invokeFunction('convertToInteractive',\n",
              "                                                     [key], {});\n",
              "          if (!dataTable) return;\n",
              "\n",
              "          const docLinkHtml = 'Like what you see? Visit the ' +\n",
              "            '<a target=\"_blank\" href=https://colab.research.google.com/notebooks/data_table.ipynb>data table notebook</a>'\n",
              "            + ' to learn more about interactive tables.';\n",
              "          element.innerHTML = '';\n",
              "          dataTable['output_type'] = 'display_data';\n",
              "          await google.colab.output.renderOutput(dataTable, element);\n",
              "          const docLink = document.createElement('div');\n",
              "          docLink.innerHTML = docLinkHtml;\n",
              "          element.appendChild(docLink);\n",
              "        }\n",
              "      </script>\n",
              "    </div>\n",
              "  </div>\n",
              "  "
            ]
          },
          "metadata": {}
        },
        {
          "output_type": "display_data",
          "data": {
            "text/plain": [
              "                                      text  mtype\n",
              "0   12 частей баранина  12 частей баранина      0\n",
              "1  Баранина, 12 частей, зам. цена 260 руб.      0\n",
              "2  Баранина, 12 частей, зам. цена 315 руб.      0\n",
              "3                Баранина, 12 частей, охл.      0\n",
              "4  Баранина, 12 частей, охл. цена 220 руб.      0"
            ],
            "text/html": [
              "\n",
              "  <div id=\"df-071895a8-17a9-4002-afd9-2c3ce1128b25\">\n",
              "    <div class=\"colab-df-container\">\n",
              "      <div>\n",
              "<style scoped>\n",
              "    .dataframe tbody tr th:only-of-type {\n",
              "        vertical-align: middle;\n",
              "    }\n",
              "\n",
              "    .dataframe tbody tr th {\n",
              "        vertical-align: top;\n",
              "    }\n",
              "\n",
              "    .dataframe thead th {\n",
              "        text-align: right;\n",
              "    }\n",
              "</style>\n",
              "<table border=\"1\" class=\"dataframe\">\n",
              "  <thead>\n",
              "    <tr style=\"text-align: right;\">\n",
              "      <th></th>\n",
              "      <th>text</th>\n",
              "      <th>mtype</th>\n",
              "    </tr>\n",
              "  </thead>\n",
              "  <tbody>\n",
              "    <tr>\n",
              "      <th>0</th>\n",
              "      <td>12 частей баранина  12 частей баранина</td>\n",
              "      <td>0</td>\n",
              "    </tr>\n",
              "    <tr>\n",
              "      <th>1</th>\n",
              "      <td>Баранина, 12 частей, зам. цена 260 руб.</td>\n",
              "      <td>0</td>\n",
              "    </tr>\n",
              "    <tr>\n",
              "      <th>2</th>\n",
              "      <td>Баранина, 12 частей, зам. цена 315 руб.</td>\n",
              "      <td>0</td>\n",
              "    </tr>\n",
              "    <tr>\n",
              "      <th>3</th>\n",
              "      <td>Баранина, 12 частей, охл.</td>\n",
              "      <td>0</td>\n",
              "    </tr>\n",
              "    <tr>\n",
              "      <th>4</th>\n",
              "      <td>Баранина, 12 частей, охл. цена 220 руб.</td>\n",
              "      <td>0</td>\n",
              "    </tr>\n",
              "  </tbody>\n",
              "</table>\n",
              "</div>\n",
              "      <button class=\"colab-df-convert\" onclick=\"convertToInteractive('df-071895a8-17a9-4002-afd9-2c3ce1128b25')\"\n",
              "              title=\"Convert this dataframe to an interactive table.\"\n",
              "              style=\"display:none;\">\n",
              "        \n",
              "  <svg xmlns=\"http://www.w3.org/2000/svg\" height=\"24px\"viewBox=\"0 0 24 24\"\n",
              "       width=\"24px\">\n",
              "    <path d=\"M0 0h24v24H0V0z\" fill=\"none\"/>\n",
              "    <path d=\"M18.56 5.44l.94 2.06.94-2.06 2.06-.94-2.06-.94-.94-2.06-.94 2.06-2.06.94zm-11 1L8.5 8.5l.94-2.06 2.06-.94-2.06-.94L8.5 2.5l-.94 2.06-2.06.94zm10 10l.94 2.06.94-2.06 2.06-.94-2.06-.94-.94-2.06-.94 2.06-2.06.94z\"/><path d=\"M17.41 7.96l-1.37-1.37c-.4-.4-.92-.59-1.43-.59-.52 0-1.04.2-1.43.59L10.3 9.45l-7.72 7.72c-.78.78-.78 2.05 0 2.83L4 21.41c.39.39.9.59 1.41.59.51 0 1.02-.2 1.41-.59l7.78-7.78 2.81-2.81c.8-.78.8-2.07 0-2.86zM5.41 20L4 18.59l7.72-7.72 1.47 1.35L5.41 20z\"/>\n",
              "  </svg>\n",
              "      </button>\n",
              "      \n",
              "  <style>\n",
              "    .colab-df-container {\n",
              "      display:flex;\n",
              "      flex-wrap:wrap;\n",
              "      gap: 12px;\n",
              "    }\n",
              "\n",
              "    .colab-df-convert {\n",
              "      background-color: #E8F0FE;\n",
              "      border: none;\n",
              "      border-radius: 50%;\n",
              "      cursor: pointer;\n",
              "      display: none;\n",
              "      fill: #1967D2;\n",
              "      height: 32px;\n",
              "      padding: 0 0 0 0;\n",
              "      width: 32px;\n",
              "    }\n",
              "\n",
              "    .colab-df-convert:hover {\n",
              "      background-color: #E2EBFA;\n",
              "      box-shadow: 0px 1px 2px rgba(60, 64, 67, 0.3), 0px 1px 3px 1px rgba(60, 64, 67, 0.15);\n",
              "      fill: #174EA6;\n",
              "    }\n",
              "\n",
              "    [theme=dark] .colab-df-convert {\n",
              "      background-color: #3B4455;\n",
              "      fill: #D2E3FC;\n",
              "    }\n",
              "\n",
              "    [theme=dark] .colab-df-convert:hover {\n",
              "      background-color: #434B5C;\n",
              "      box-shadow: 0px 1px 3px 1px rgba(0, 0, 0, 0.15);\n",
              "      filter: drop-shadow(0px 1px 2px rgba(0, 0, 0, 0.3));\n",
              "      fill: #FFFFFF;\n",
              "    }\n",
              "  </style>\n",
              "\n",
              "      <script>\n",
              "        const buttonEl =\n",
              "          document.querySelector('#df-071895a8-17a9-4002-afd9-2c3ce1128b25 button.colab-df-convert');\n",
              "        buttonEl.style.display =\n",
              "          google.colab.kernel.accessAllowed ? 'block' : 'none';\n",
              "\n",
              "        async function convertToInteractive(key) {\n",
              "          const element = document.querySelector('#df-071895a8-17a9-4002-afd9-2c3ce1128b25');\n",
              "          const dataTable =\n",
              "            await google.colab.kernel.invokeFunction('convertToInteractive',\n",
              "                                                     [key], {});\n",
              "          if (!dataTable) return;\n",
              "\n",
              "          const docLinkHtml = 'Like what you see? Visit the ' +\n",
              "            '<a target=\"_blank\" href=https://colab.research.google.com/notebooks/data_table.ipynb>data table notebook</a>'\n",
              "            + ' to learn more about interactive tables.';\n",
              "          element.innerHTML = '';\n",
              "          dataTable['output_type'] = 'display_data';\n",
              "          await google.colab.output.renderOutput(dataTable, element);\n",
              "          const docLink = document.createElement('div');\n",
              "          docLink.innerHTML = docLinkHtml;\n",
              "          element.appendChild(docLink);\n",
              "        }\n",
              "      </script>\n",
              "    </div>\n",
              "  </div>\n",
              "  "
            ]
          },
          "metadata": {}
        }
      ],
      "source": [
        "display(df.head())\n",
        "\n",
        "le = LabelEncoder().fit(df[\"mtype\"])\n",
        "df['mtype'] = le.transform(df['mtype'])\n",
        "\n",
        "display(df.head())"
      ]
    },
    {
      "cell_type": "markdown",
      "metadata": {
        "id": "nx4-LvkBJq8H"
      },
      "source": [
        "## Важно\n",
        "Данные имеют очень высокий дисбаланс классов. Для бейзлайн решения бороться с дисбалансом не будем"
      ]
    },
    {
      "cell_type": "code",
      "execution_count": null,
      "metadata": {
        "colab": {
          "base_uri": "https://localhost:8080/"
        },
        "id": "0iLibhbZJq8H",
        "outputId": "010ea2bb-b603-4697-ac0e-0b9f40eda753"
      },
      "outputs": [
        {
          "output_type": "execute_result",
          "data": {
            "text/plain": [
              "1    8424\n",
              "4    3054\n",
              "3    1571\n",
              "2    1339\n",
              "0    1116\n",
              "5     944\n",
              "Name: mtype, dtype: int64"
            ]
          },
          "metadata": {},
          "execution_count": 8
        }
      ],
      "source": [
        "df['mtype'].value_counts()"
      ]
    },
    {
      "cell_type": "markdown",
      "metadata": {
        "id": "z4Ec_t3clOb_"
      },
      "source": [
        "#### Необходимо оставить только буквенные записи для каждого текста, также проведём лемантизацию текстов"
      ]
    },
    {
      "cell_type": "code",
      "execution_count": null,
      "metadata": {
        "colab": {
          "base_uri": "https://localhost:8080/",
          "height": 36
        },
        "id": "T2qEOLcfcSaQ",
        "outputId": "f3b1830f-858a-44fd-8ecb-1a7c96b259de"
      },
      "outputs": [
        {
          "output_type": "execute_result",
          "data": {
            "text/plain": [
              "'Антрекот гов Россия ГОСТ Говядина, антрекот, бк, охл., Россия, коробки, склад, от 100 кг до 500 кг'"
            ],
            "application/vnd.google.colaboratory.intrinsic+json": {
              "type": "string"
            }
          },
          "metadata": {},
          "execution_count": 9
        }
      ],
      "source": [
        "df['text'].iloc[101]"
      ]
    },
    {
      "cell_type": "code",
      "source": [
        "m = Mystem()\n",
        "df['text'] = df['text'].apply(lambda x : ''.join(m.lemmatize(x)))\n",
        "df['text'].iloc[101]"
      ],
      "metadata": {
        "colab": {
          "base_uri": "https://localhost:8080/",
          "height": 53
        },
        "id": "2_8YE0P8fTz5",
        "outputId": "a78028f5-eb18-4e2d-ecfa-740b57022676"
      },
      "execution_count": null,
      "outputs": [
        {
          "output_type": "stream",
          "name": "stderr",
          "text": [
            "Installing mystem to /root/.local/bin/mystem from http://download.cdn.yandex.net/mystem/mystem-3.1-linux-64bit.tar.gz\n"
          ]
        },
        {
          "output_type": "execute_result",
          "data": {
            "text/plain": [
              "'антрекот гов россия гост говядина, антрекот, бк, охла., россия, коробка, склад, от 100 кг до 500 кг\\n'"
            ],
            "application/vnd.google.colaboratory.intrinsic+json": {
              "type": "string"
            }
          },
          "metadata": {},
          "execution_count": 10
        }
      ]
    },
    {
      "cell_type": "code",
      "execution_count": null,
      "metadata": {
        "colab": {
          "base_uri": "https://localhost:8080/",
          "height": 36
        },
        "id": "ecVhJTUKlNjh",
        "outputId": "94d43ac0-8eff-4a5b-f2a5-1d7026c8498f"
      },
      "outputs": [
        {
          "output_type": "execute_result",
          "data": {
            "text/plain": [
              "'антрекот гов россия гост говядина антрекот бк охла россия коробка склад от кг до кг'"
            ],
            "application/vnd.google.colaboratory.intrinsic+json": {
              "type": "string"
            }
          },
          "metadata": {},
          "execution_count": 11
        }
      ],
      "source": [
        "df['text'] = df['text'].apply(lambda x : ' '.join(re.sub(r'[^а-яА-ЯёЁ]', ' ', x.lower()).split()))\n",
        "df['text'].iloc[101]"
      ]
    },
    {
      "cell_type": "markdown",
      "source": [
        "#### Разделлим данные на обучающую, тестовую и валидационную выборку"
      ],
      "metadata": {
        "id": "THRgoL1RQ4RV"
      }
    },
    {
      "cell_type": "code",
      "execution_count": null,
      "metadata": {
        "colab": {
          "base_uri": "https://localhost:8080/",
          "height": 381
        },
        "id": "Nz5vd5LCJq8J",
        "outputId": "9f09202d-722e-48ae-cb9d-638a98f49fc3"
      },
      "outputs": [
        {
          "output_type": "display_data",
          "data": {
            "text/plain": [
              "1    6114\n",
              "4    2190\n",
              "3    1103\n",
              "2     949\n",
              "0     805\n",
              "5     681\n",
              "Name: mtype, dtype: int64"
            ]
          },
          "metadata": {}
        },
        {
          "output_type": "display_data",
          "data": {
            "text/plain": [
              "1    1630\n",
              "4     621\n",
              "3     345\n",
              "2     285\n",
              "0     222\n",
              "5     187\n",
              "Name: mtype, dtype: int64"
            ]
          },
          "metadata": {}
        },
        {
          "output_type": "display_data",
          "data": {
            "text/plain": [
              "1    680\n",
              "4    243\n",
              "3    123\n",
              "2    105\n",
              "0     89\n",
              "5     76\n",
              "Name: mtype, dtype: int64"
            ]
          },
          "metadata": {}
        }
      ],
      "source": [
        "x_train, x_test, y_train, y_test = train_test_split(df['text'].values.astype('U'), df['mtype'], test_size=0.2, random_state=12345)\n",
        "\n",
        "x_train, x_val, y_train, y_val = train_test_split(x_train, y_train, test_size=0.1, stratify=y_train, random_state=12345)\n",
        "\n",
        "display(y_train.value_counts())\n",
        "display(y_test.value_counts())\n",
        "display(y_val.value_counts())"
      ]
    },
    {
      "cell_type": "code",
      "execution_count": null,
      "metadata": {
        "colab": {
          "base_uri": "https://localhost:8080/"
        },
        "id": "AqciKF75Jq8J",
        "outputId": "384380dd-348e-4536-a615-d996ece99c24"
      },
      "outputs": [
        {
          "output_type": "stream",
          "name": "stderr",
          "text": [
            "[nltk_data] Downloading package stopwords to /root/nltk_data...\n",
            "[nltk_data]   Package stopwords is already up-to-date!\n"
          ]
        }
      ],
      "source": [
        "nltk.download('stopwords')\n",
        "stopwords = list(nltk_stopwords.words('russian'))\n",
        "\n",
        "count_tf_idf = TfidfVectorizer(stop_words = stopwords)"
      ]
    },
    {
      "cell_type": "code",
      "execution_count": null,
      "metadata": {
        "id": "qTdRHFk4Jq8J"
      },
      "outputs": [],
      "source": [
        "x_train_tf = count_tf_idf.fit_transform(x_train)\n",
        "\n",
        "x_val_tf = count_tf_idf.transform(x_val)\n",
        "x_test_tf = count_tf_idf.transform(x_test)"
      ]
    },
    {
      "cell_type": "markdown",
      "metadata": {
        "id": "8lj1t4NVJq8K"
      },
      "source": [
        "#### Перевод матрицы tf в тензор"
      ]
    },
    {
      "cell_type": "code",
      "execution_count": null,
      "metadata": {
        "colab": {
          "base_uri": "https://localhost:8080/"
        },
        "id": "-sTDjPBkJq8K",
        "outputId": "724c2f03-4350-4ed9-e1c9-0aaa125e85fc"
      },
      "outputs": [
        {
          "output_type": "execute_result",
          "data": {
            "text/plain": [
              "torch.Size([11842, 6161])"
            ]
          },
          "metadata": {},
          "execution_count": 15
        }
      ],
      "source": [
        "x_train_tf = torch.tensor(scipy.sparse.csr_matrix.todense(x_train_tf)).float()\n",
        "x_val_tf = torch.tensor(scipy.sparse.csr_matrix.todense(x_val_tf)).float()\n",
        "x_test_tf = torch.tensor(scipy.sparse.csr_matrix.todense(x_test_tf)).float()\n",
        "\n",
        "x_train_tf.shape"
      ]
    },
    {
      "cell_type": "markdown",
      "metadata": {
        "id": "f5TUjIqkJq8K"
      },
      "source": [
        "#### Конвертируем целевой признак в тензор"
      ]
    },
    {
      "cell_type": "code",
      "source": [
        "y_train.values"
      ],
      "metadata": {
        "colab": {
          "base_uri": "https://localhost:8080/"
        },
        "id": "26lBdDRO5VLZ",
        "outputId": "c3a19303-4bdf-4855-c56d-bfb10556ead6"
      },
      "execution_count": null,
      "outputs": [
        {
          "output_type": "execute_result",
          "data": {
            "text/plain": [
              "array([2, 4, 1, ..., 0, 1, 1])"
            ]
          },
          "metadata": {},
          "execution_count": 71
        }
      ]
    },
    {
      "cell_type": "code",
      "execution_count": null,
      "metadata": {
        "id": "EVp-giVfJq8L"
      },
      "outputs": [],
      "source": [
        "y_train = torch.tensor(y_train.values).long()\n",
        "y_val = torch.tensor(y_val.values).long()\n",
        "y_test = torch.tensor(y_test.values).long()"
      ]
    },
    {
      "cell_type": "code",
      "execution_count": null,
      "metadata": {
        "id": "_8o8Ps8pJq8L"
      },
      "outputs": [],
      "source": [
        "class ClassifierDataset(Dataset):\n",
        "    \n",
        "    def __init__(self, X_data, y_data):\n",
        "        self.X_data = X_data\n",
        "        self.y_data = y_data\n",
        "        \n",
        "    def __getitem__(self, index):\n",
        "        return self.X_data[index], self.y_data[index]\n",
        "        \n",
        "    def __len__ (self):\n",
        "        return len(self.X_data)"
      ]
    },
    {
      "cell_type": "code",
      "execution_count": null,
      "metadata": {
        "id": "I56RwhBCJq8L"
      },
      "outputs": [],
      "source": [
        "train_dataset = ClassifierDataset(x_train_tf, y_train)\n",
        "val_dataset = ClassifierDataset(x_val_tf, y_val)\n",
        "test_dataset = ClassifierDataset(x_test_tf, y_test)"
      ]
    },
    {
      "cell_type": "code",
      "execution_count": null,
      "metadata": {
        "id": "41NZ3RfjJq8L"
      },
      "outputs": [],
      "source": [
        "EPOCHS = 15\n",
        "BATCH_SIZE = 16"
      ]
    },
    {
      "cell_type": "code",
      "execution_count": null,
      "metadata": {
        "id": "6ubu_fiAJq8M"
      },
      "outputs": [],
      "source": [
        "train_loader = DataLoader(dataset=train_dataset, batch_size=BATCH_SIZE)\n",
        "val_loader = DataLoader(dataset=val_dataset, batch_size=1)\n",
        "test_loader = DataLoader(dataset=test_dataset, batch_size=1)"
      ]
    },
    {
      "cell_type": "markdown",
      "metadata": {
        "id": "MaZOOBl8Jq8M"
      },
      "source": [
        "#### Создаём модель"
      ]
    },
    {
      "cell_type": "code",
      "source": [
        "SEED = 12345\n",
        "torch.manual_seed(SEED)"
      ],
      "metadata": {
        "colab": {
          "base_uri": "https://localhost:8080/"
        },
        "id": "YywZd3athiCw",
        "outputId": "24a20608-3c87-42fb-a6b5-b16264409d14"
      },
      "execution_count": null,
      "outputs": [
        {
          "output_type": "execute_result",
          "data": {
            "text/plain": [
              "<torch._C.Generator at 0x7efc04679cb0>"
            ]
          },
          "metadata": {},
          "execution_count": 21
        }
      ]
    },
    {
      "cell_type": "code",
      "execution_count": null,
      "metadata": {
        "id": "b_RVN0R9Jq8M"
      },
      "outputs": [],
      "source": [
        "class MulticlassClassification(nn.Module):\n",
        "  def __init__(self, num_feature, num_class = 6):\n",
        "      super(MulticlassClassification, self).__init__()\n",
        "      self.layer_1 = nn.Linear(num_feature, 512)\n",
        "      self.layer_2 = nn.Linear(512, 256)\n",
        "      self.layer_3 = nn.Linear(256, 128)\n",
        "      self.layer_out = nn.Linear(128, num_class)\n",
        "\n",
        "      self.relu = nn.ReLU()\n",
        "      self.dropout = nn.Dropout(p=0.2)\n",
        "      self.batchnorm1 = nn.BatchNorm1d(512)\n",
        "      self.batchnorm2 = nn.BatchNorm1d(256)\n",
        "      self.batchnorm3 = nn.BatchNorm1d(128)\n",
        "      \n",
        "  def forward(self, x):\n",
        "     x = self.layer_1(x)\n",
        "     x = self.batchnorm1(x)\n",
        "     x = self.relu(x)   \n",
        "\n",
        "     x = self.layer_2(x)\n",
        "     x = self.batchnorm2(x)\n",
        "     x = self.relu(x)\n",
        "     x = self.dropout(x)\n",
        "\n",
        "     x = self.layer_3(x)\n",
        "     x = self.batchnorm3(x)\n",
        "     x = self.relu(x)\n",
        "     x = self.dropout(x)\n",
        "        \n",
        "     x = self.layer_out(x)\n",
        "        \n",
        "     return x"
      ]
    },
    {
      "cell_type": "code",
      "execution_count": null,
      "metadata": {
        "id": "vlm8Qi5-Jq8M"
      },
      "outputs": [],
      "source": [
        "def multi_acc(y_pred, y_test):\n",
        "  y_pred_softmax = torch.log_softmax(y_pred, dim = 1)\n",
        "  _, y_pred_tags = torch.max(y_pred_softmax, dim = 1)\n",
        "  correct_pred = (y_pred_tags == y_test).long()\n",
        "  acc = correct_pred.sum() / len(correct_pred)\n",
        "  acc = torch.round(acc) * 100\n",
        "  return acc"
      ]
    },
    {
      "cell_type": "code",
      "execution_count": null,
      "metadata": {
        "id": "pqk4mztSJq8N"
      },
      "outputs": [],
      "source": [
        "accuracy_stats = {'train': [],\"val\": []}\n",
        "loss_stats = {'train': [],\"val\": []}"
      ]
    },
    {
      "cell_type": "code",
      "source": [
        "model = MulticlassClassification(num_feature = x_train_tf.shape[1], num_class=6)\n",
        "criterion = nn.CrossEntropyLoss()\n",
        "optimizer = optim.Adam(model.parameters(), lr=0.001)\n",
        "print(model)"
      ],
      "metadata": {
        "colab": {
          "base_uri": "https://localhost:8080/"
        },
        "id": "fBWEXxxAKSMO",
        "outputId": "5e737bd3-90d4-448a-ebc8-e0abf695af48"
      },
      "execution_count": null,
      "outputs": [
        {
          "output_type": "stream",
          "name": "stdout",
          "text": [
            "MulticlassClassification(\n",
            "  (layer_1): Linear(in_features=6161, out_features=512, bias=True)\n",
            "  (layer_2): Linear(in_features=512, out_features=256, bias=True)\n",
            "  (layer_3): Linear(in_features=256, out_features=128, bias=True)\n",
            "  (layer_out): Linear(in_features=128, out_features=6, bias=True)\n",
            "  (relu): ReLU()\n",
            "  (dropout): Dropout(p=0.2, inplace=False)\n",
            "  (batchnorm1): BatchNorm1d(512, eps=1e-05, momentum=0.1, affine=True, track_running_stats=True)\n",
            "  (batchnorm2): BatchNorm1d(256, eps=1e-05, momentum=0.1, affine=True, track_running_stats=True)\n",
            "  (batchnorm3): BatchNorm1d(128, eps=1e-05, momentum=0.1, affine=True, track_running_stats=True)\n",
            ")\n"
          ]
        }
      ]
    },
    {
      "cell_type": "code",
      "source": [
        "device = torch.device(\"cuda:0\" if torch.cuda.is_available() else \"cpu\")\n",
        "print(device)\n",
        "torch.cuda.is_available()\n",
        "#model.to(device)"
      ],
      "metadata": {
        "colab": {
          "base_uri": "https://localhost:8080/"
        },
        "id": "oa9vnZ56LJfv",
        "outputId": "6e19df40-6d18-428f-b0d2-b172bc23e7a8"
      },
      "execution_count": null,
      "outputs": [
        {
          "output_type": "stream",
          "name": "stdout",
          "text": [
            "cpu\n"
          ]
        },
        {
          "output_type": "execute_result",
          "data": {
            "text/plain": [
              "False"
            ]
          },
          "metadata": {},
          "execution_count": 26
        }
      ]
    },
    {
      "cell_type": "code",
      "execution_count": null,
      "metadata": {
        "colab": {
          "base_uri": "https://localhost:8080/",
          "height": 847,
          "referenced_widgets": [
            "6afbad3af5a74225a664fc2615bcf84a",
            "d2ab274497e54e6fb9f0bb251905fbb7",
            "6a21f97696f6417e9e8403103b229783",
            "e577c5239eb842e98417232cf96dac63",
            "79f02884c33e4bc987f61452585303fc",
            "11d9458ce8594ae88b28911ccd2b7b26",
            "ab46b39203ee4570a1a1e642f4d1fb61",
            "e2b01a1689dc4e2ab308f977d13e74be",
            "6d6b565ea9544f0ba3c6a4e684e199f0",
            "91a5dfb0332a4e65ad1414abcd8c0629",
            "a874807649054c67900b6f7ae1f39d3f"
          ]
        },
        "id": "G9JXBF9FJq8N",
        "outputId": "9c87aea9-8a8e-4774-a79a-f7f2466e7203"
      },
      "outputs": [
        {
          "output_type": "stream",
          "name": "stdout",
          "text": [
            "Begin training.\n"
          ]
        },
        {
          "output_type": "display_data",
          "data": {
            "text/plain": [
              "  0%|          | 0/15 [00:00<?, ?it/s]"
            ],
            "application/vnd.jupyter.widget-view+json": {
              "version_major": 2,
              "version_minor": 0,
              "model_id": "6afbad3af5a74225a664fc2615bcf84a"
            }
          },
          "metadata": {}
        },
        {
          "output_type": "stream",
          "name": "stdout",
          "text": [
            "741\n",
            "1316\n",
            "Epoch: 1/15..  Training Loss: 0.003..  Training Accuracy: 0.985..  Val Loss: 0.002..  Val Accuracy: 0.936\n",
            "741\n",
            "1316\n",
            "Epoch: 2/15..  Training Loss: 0.001..  Training Accuracy: 0.999..  Val Loss: 0.002..  Val Accuracy: 0.947\n",
            "741\n",
            "1316\n",
            "Epoch: 3/15..  Training Loss: 0.001..  Training Accuracy: 0.999..  Val Loss: 0.002..  Val Accuracy: 0.948\n",
            "741\n",
            "1316\n",
            "Epoch: 4/15..  Training Loss: 0.000..  Training Accuracy: 0.999..  Val Loss: 0.002..  Val Accuracy: 0.946\n",
            "741\n",
            "1316\n",
            "Epoch: 5/15..  Training Loss: 0.000..  Training Accuracy: 0.999..  Val Loss: 0.003..  Val Accuracy: 0.945\n",
            "741\n",
            "1316\n",
            "Epoch: 6/15..  Training Loss: 0.000..  Training Accuracy: 0.999..  Val Loss: 0.003..  Val Accuracy: 0.947\n",
            "741\n",
            "1316\n",
            "Epoch: 7/15..  Training Loss: 0.000..  Training Accuracy: 0.999..  Val Loss: 0.003..  Val Accuracy: 0.943\n",
            "741\n",
            "1316\n",
            "Epoch: 8/15..  Training Loss: 0.000..  Training Accuracy: 0.999..  Val Loss: 0.002..  Val Accuracy: 0.949\n",
            "741\n",
            "1316\n",
            "Epoch: 9/15..  Training Loss: 0.000..  Training Accuracy: 0.999..  Val Loss: 0.003..  Val Accuracy: 0.944\n",
            "741\n",
            "1316\n",
            "Epoch: 10/15..  Training Loss: 0.000..  Training Accuracy: 0.999..  Val Loss: 0.003..  Val Accuracy: 0.947\n",
            "741\n",
            "1316\n",
            "Epoch: 11/15..  Training Loss: 0.000..  Training Accuracy: 0.999..  Val Loss: 0.003..  Val Accuracy: 0.948\n",
            "741\n",
            "1316\n",
            "Epoch: 12/15..  Training Loss: 0.000..  Training Accuracy: 1.000..  Val Loss: 0.004..  Val Accuracy: 0.945\n",
            "741\n",
            "1316\n",
            "Epoch: 13/15..  Training Loss: 0.000..  Training Accuracy: 0.999..  Val Loss: 0.004..  Val Accuracy: 0.944\n",
            "741\n",
            "1316\n",
            "Epoch: 14/15..  Training Loss: 0.000..  Training Accuracy: 0.999..  Val Loss: 0.003..  Val Accuracy: 0.948\n",
            "741\n",
            "1316\n",
            "Epoch: 15/15..  Training Loss: 0.000..  Training Accuracy: 1.000..  Val Loss: 0.003..  Val Accuracy: 0.953\n"
          ]
        }
      ],
      "source": [
        "print(\"Begin training.\")\n",
        "for e in tqdm(range(1, EPOCHS+1)):\n",
        "  train_epoch_loss = 0\n",
        "  train_epoch_acc = 0\n",
        "  model.train()\n",
        "  count = 0\n",
        "\n",
        "  for X_train_batch, y_train_batch in train_loader:\n",
        "     optimizer.zero_grad()\n",
        "     y_train_pred = model(X_train_batch)\n",
        "     train_loss = criterion(y_train_pred, y_train_batch)\n",
        "     train_acc = multi_acc(y_train_pred, y_train_batch)\n",
        "     train_loss.backward()\n",
        "     optimizer.step()\n",
        "     train_epoch_loss += train_loss.item()\n",
        "     train_epoch_acc += train_acc.item()\n",
        "     count+=1\n",
        "\n",
        "  print(count)\n",
        "  train_epoch_acc /= 100*count\n",
        "  train_epoch_loss /= 100*count\n",
        "\n",
        "  with torch.no_grad():\n",
        "      val_epoch_loss = 0\n",
        "      val_epoch_acc = 0\n",
        "      model.eval()\n",
        "      count = 0\n",
        "      for X_val_batch, y_val_batch in val_loader:\n",
        "        \n",
        "        y_val_pred = model(X_val_batch)\n",
        "        val_loss = criterion(y_val_pred, y_val_batch)\n",
        "        val_acc = multi_acc(y_val_pred, y_val_batch)\n",
        "        val_epoch_loss += val_loss.item()\n",
        "        val_epoch_acc += val_acc.item()\n",
        "        count+=1\n",
        "      print(count)\n",
        "      val_epoch_acc /= 100*count\n",
        "      val_epoch_loss /= 100*count\n",
        "\n",
        "  print(f\"Epoch: {e}/{EPOCHS}.. \",\n",
        "          f\"Training Loss: {train_epoch_loss:.3f}.. \",\n",
        "          f\"Training Accuracy: {train_epoch_acc:.3f}.. \",\n",
        "          f\"Val Loss: {val_epoch_loss:.3f}.. \",\n",
        "          f\"Val Accuracy: {val_epoch_acc:.3f}\")\n",
        "\n",
        "loss_stats['train'].append(train_epoch_loss/len(train_loader))\n",
        "accuracy_stats['train'].append(train_epoch_acc/len(train_loader))\n",
        "\n"
      ]
    },
    {
      "cell_type": "code",
      "execution_count": null,
      "metadata": {
        "colab": {
          "base_uri": "https://localhost:8080/"
        },
        "id": "2GZag1tBJq8N",
        "outputId": "554fbd99-d54c-4645-d92c-4543a62d1e14"
      },
      "outputs": [
        {
          "output_type": "execute_result",
          "data": {
            "text/plain": [
              "[array([2]),\n",
              " array([3]),\n",
              " array([1]),\n",
              " array([3]),\n",
              " array([1]),\n",
              " array([5]),\n",
              " array([1]),\n",
              " array([0]),\n",
              " array([1]),\n",
              " array([1])]"
            ]
          },
          "metadata": {},
          "execution_count": 28
        }
      ],
      "source": [
        "y_pred_list = []\n",
        "with torch.no_grad():\n",
        "   model.eval()\n",
        "   for X_batch, _ in test_loader:\n",
        "     y_test_pred = model(X_batch)\n",
        "     y_pred_softmax = torch.log_softmax(y_test_pred, dim = 1)\n",
        "     _, y_pred_tags = torch.max(y_pred_softmax, dim = 1)\n",
        "     y_pred_list.append(y_pred_tags.cpu().numpy())\n",
        "\n",
        "y_pred_list[:10]"
      ]
    },
    {
      "cell_type": "code",
      "source": [
        "y_pred_list = [a.squeeze().tolist() for a in y_pred_list]\n",
        "y_pred_list[:10]"
      ],
      "metadata": {
        "colab": {
          "base_uri": "https://localhost:8080/"
        },
        "id": "SNy79SnJL9zn",
        "outputId": "0115707e-5ceb-4cd0-d6f2-7966c90dc730"
      },
      "execution_count": null,
      "outputs": [
        {
          "output_type": "execute_result",
          "data": {
            "text/plain": [
              "[2, 3, 1, 3, 1, 5, 1, 0, 1, 1]"
            ]
          },
          "metadata": {},
          "execution_count": 29
        }
      ]
    },
    {
      "cell_type": "code",
      "source": [
        "print(\"classification report :\\n\",classification_report(y_test, y_pred_list), sep='')"
      ],
      "metadata": {
        "colab": {
          "base_uri": "https://localhost:8080/"
        },
        "id": "piUxIm0HgwoA",
        "outputId": "fa60016e-73d9-43db-c73d-cd4e3b97596b"
      },
      "execution_count": null,
      "outputs": [
        {
          "output_type": "stream",
          "name": "stdout",
          "text": [
            "classification report :\n",
            "              precision    recall  f1-score   support\n",
            "\n",
            "           0       0.98      0.96      0.97       222\n",
            "           1       0.99      0.98      0.99      1630\n",
            "           2       0.99      1.00      0.99       285\n",
            "           3       0.78      0.78      0.78       345\n",
            "           4       0.98      0.99      0.98       621\n",
            "           5       0.61      0.67      0.64       187\n",
            "\n",
            "    accuracy                           0.94      3290\n",
            "   macro avg       0.89      0.90      0.89      3290\n",
            "weighted avg       0.95      0.94      0.95      3290\n",
            "\n"
          ]
        }
      ]
    },
    {
      "cell_type": "markdown",
      "source": [
        "## Вывод\n",
        "Из-за дисбаланса классов, модель плохо распознаёт классы 3, 5. Это виднопо значеням метрики precision, recall, f1-score. Но метрика F1weight = 0.94, что в целом является неплохим результатом."
      ],
      "metadata": {
        "id": "yBvUJgVxYvzl"
      }
    },
    {
      "cell_type": "markdown",
      "source": [
        "## Сделаем проверку обученной модели"
      ],
      "metadata": {
        "id": "IoWjCr-R1Y-N"
      }
    },
    {
      "cell_type": "code",
      "source": [
        "data_test = {'text': ['Говядина блочная 2 сорт в наличии ООО \"АгроСоюз\" реализует блочную говядину 2 сорт (80/20) Свободный объем 8 тонн Самовывоз или доставка. Все подробности по телефону.',\n",
        "                      'Куриная разделка Продам кур и куриную разделку гост и халяль по хорошей цене .Тел:',\n",
        "                      'Говяжью мукозу Продам говяжью мукозу в охл и замороженном виде. Есть объем.'], 'target': [-1, -1, -1]}\n",
        "data_test = pd.DataFrame(data = data_test)\n",
        "data_test           "
      ],
      "metadata": {
        "id": "uCZ2k_sRkOYy",
        "colab": {
          "base_uri": "https://localhost:8080/",
          "height": 143
        },
        "outputId": "89e37841-be89-4a08-9f97-cbef4f1354e2"
      },
      "execution_count": null,
      "outputs": [
        {
          "output_type": "execute_result",
          "data": {
            "text/plain": [
              "                                                text  target\n",
              "0  Говядина блочная 2 сорт в наличии ООО \"АгроСою...      -1\n",
              "1  Куриная разделка Продам кур и куриную разделку...      -1\n",
              "2  Говяжью мукозу Продам говяжью мукозу в охл и з...      -1"
            ],
            "text/html": [
              "\n",
              "  <div id=\"df-d9d2ffd6-05d5-4c4e-af62-c74caa914942\">\n",
              "    <div class=\"colab-df-container\">\n",
              "      <div>\n",
              "<style scoped>\n",
              "    .dataframe tbody tr th:only-of-type {\n",
              "        vertical-align: middle;\n",
              "    }\n",
              "\n",
              "    .dataframe tbody tr th {\n",
              "        vertical-align: top;\n",
              "    }\n",
              "\n",
              "    .dataframe thead th {\n",
              "        text-align: right;\n",
              "    }\n",
              "</style>\n",
              "<table border=\"1\" class=\"dataframe\">\n",
              "  <thead>\n",
              "    <tr style=\"text-align: right;\">\n",
              "      <th></th>\n",
              "      <th>text</th>\n",
              "      <th>target</th>\n",
              "    </tr>\n",
              "  </thead>\n",
              "  <tbody>\n",
              "    <tr>\n",
              "      <th>0</th>\n",
              "      <td>Говядина блочная 2 сорт в наличии ООО \"АгроСою...</td>\n",
              "      <td>-1</td>\n",
              "    </tr>\n",
              "    <tr>\n",
              "      <th>1</th>\n",
              "      <td>Куриная разделка Продам кур и куриную разделку...</td>\n",
              "      <td>-1</td>\n",
              "    </tr>\n",
              "    <tr>\n",
              "      <th>2</th>\n",
              "      <td>Говяжью мукозу Продам говяжью мукозу в охл и з...</td>\n",
              "      <td>-1</td>\n",
              "    </tr>\n",
              "  </tbody>\n",
              "</table>\n",
              "</div>\n",
              "      <button class=\"colab-df-convert\" onclick=\"convertToInteractive('df-d9d2ffd6-05d5-4c4e-af62-c74caa914942')\"\n",
              "              title=\"Convert this dataframe to an interactive table.\"\n",
              "              style=\"display:none;\">\n",
              "        \n",
              "  <svg xmlns=\"http://www.w3.org/2000/svg\" height=\"24px\"viewBox=\"0 0 24 24\"\n",
              "       width=\"24px\">\n",
              "    <path d=\"M0 0h24v24H0V0z\" fill=\"none\"/>\n",
              "    <path d=\"M18.56 5.44l.94 2.06.94-2.06 2.06-.94-2.06-.94-.94-2.06-.94 2.06-2.06.94zm-11 1L8.5 8.5l.94-2.06 2.06-.94-2.06-.94L8.5 2.5l-.94 2.06-2.06.94zm10 10l.94 2.06.94-2.06 2.06-.94-2.06-.94-.94-2.06-.94 2.06-2.06.94z\"/><path d=\"M17.41 7.96l-1.37-1.37c-.4-.4-.92-.59-1.43-.59-.52 0-1.04.2-1.43.59L10.3 9.45l-7.72 7.72c-.78.78-.78 2.05 0 2.83L4 21.41c.39.39.9.59 1.41.59.51 0 1.02-.2 1.41-.59l7.78-7.78 2.81-2.81c.8-.78.8-2.07 0-2.86zM5.41 20L4 18.59l7.72-7.72 1.47 1.35L5.41 20z\"/>\n",
              "  </svg>\n",
              "      </button>\n",
              "      \n",
              "  <style>\n",
              "    .colab-df-container {\n",
              "      display:flex;\n",
              "      flex-wrap:wrap;\n",
              "      gap: 12px;\n",
              "    }\n",
              "\n",
              "    .colab-df-convert {\n",
              "      background-color: #E8F0FE;\n",
              "      border: none;\n",
              "      border-radius: 50%;\n",
              "      cursor: pointer;\n",
              "      display: none;\n",
              "      fill: #1967D2;\n",
              "      height: 32px;\n",
              "      padding: 0 0 0 0;\n",
              "      width: 32px;\n",
              "    }\n",
              "\n",
              "    .colab-df-convert:hover {\n",
              "      background-color: #E2EBFA;\n",
              "      box-shadow: 0px 1px 2px rgba(60, 64, 67, 0.3), 0px 1px 3px 1px rgba(60, 64, 67, 0.15);\n",
              "      fill: #174EA6;\n",
              "    }\n",
              "\n",
              "    [theme=dark] .colab-df-convert {\n",
              "      background-color: #3B4455;\n",
              "      fill: #D2E3FC;\n",
              "    }\n",
              "\n",
              "    [theme=dark] .colab-df-convert:hover {\n",
              "      background-color: #434B5C;\n",
              "      box-shadow: 0px 1px 3px 1px rgba(0, 0, 0, 0.15);\n",
              "      filter: drop-shadow(0px 1px 2px rgba(0, 0, 0, 0.3));\n",
              "      fill: #FFFFFF;\n",
              "    }\n",
              "  </style>\n",
              "\n",
              "      <script>\n",
              "        const buttonEl =\n",
              "          document.querySelector('#df-d9d2ffd6-05d5-4c4e-af62-c74caa914942 button.colab-df-convert');\n",
              "        buttonEl.style.display =\n",
              "          google.colab.kernel.accessAllowed ? 'block' : 'none';\n",
              "\n",
              "        async function convertToInteractive(key) {\n",
              "          const element = document.querySelector('#df-d9d2ffd6-05d5-4c4e-af62-c74caa914942');\n",
              "          const dataTable =\n",
              "            await google.colab.kernel.invokeFunction('convertToInteractive',\n",
              "                                                     [key], {});\n",
              "          if (!dataTable) return;\n",
              "\n",
              "          const docLinkHtml = 'Like what you see? Visit the ' +\n",
              "            '<a target=\"_blank\" href=https://colab.research.google.com/notebooks/data_table.ipynb>data table notebook</a>'\n",
              "            + ' to learn more about interactive tables.';\n",
              "          element.innerHTML = '';\n",
              "          dataTable['output_type'] = 'display_data';\n",
              "          await google.colab.output.renderOutput(dataTable, element);\n",
              "          const docLink = document.createElement('div');\n",
              "          docLink.innerHTML = docLinkHtml;\n",
              "          element.appendChild(docLink);\n",
              "        }\n",
              "      </script>\n",
              "    </div>\n",
              "  </div>\n",
              "  "
            ]
          },
          "metadata": {},
          "execution_count": 88
        }
      ]
    },
    {
      "cell_type": "code",
      "source": [
        "data_test['text'] = data_test['text'].apply(lambda x : ''.join(m.lemmatize(x)))\n",
        "data_test "
      ],
      "metadata": {
        "colab": {
          "base_uri": "https://localhost:8080/",
          "height": 143
        },
        "id": "LLmhx8lcz-xQ",
        "outputId": "e5744acc-6230-411b-bb48-8bd3866aa1c8"
      },
      "execution_count": null,
      "outputs": [
        {
          "output_type": "execute_result",
          "data": {
            "text/plain": [
              "                                                text  target\n",
              "0  говядина блочный 2 сорт в наличие ооо \"агросою...      -1\n",
              "1  куриный разделка продавать курица и куриный ра...      -1\n",
              "2  говяжий мукоза продавать говяжий мукоза в охла...      -1"
            ],
            "text/html": [
              "\n",
              "  <div id=\"df-75e7df9f-6173-4bca-bac4-c73ed95bad44\">\n",
              "    <div class=\"colab-df-container\">\n",
              "      <div>\n",
              "<style scoped>\n",
              "    .dataframe tbody tr th:only-of-type {\n",
              "        vertical-align: middle;\n",
              "    }\n",
              "\n",
              "    .dataframe tbody tr th {\n",
              "        vertical-align: top;\n",
              "    }\n",
              "\n",
              "    .dataframe thead th {\n",
              "        text-align: right;\n",
              "    }\n",
              "</style>\n",
              "<table border=\"1\" class=\"dataframe\">\n",
              "  <thead>\n",
              "    <tr style=\"text-align: right;\">\n",
              "      <th></th>\n",
              "      <th>text</th>\n",
              "      <th>target</th>\n",
              "    </tr>\n",
              "  </thead>\n",
              "  <tbody>\n",
              "    <tr>\n",
              "      <th>0</th>\n",
              "      <td>говядина блочный 2 сорт в наличие ооо \"агросою...</td>\n",
              "      <td>-1</td>\n",
              "    </tr>\n",
              "    <tr>\n",
              "      <th>1</th>\n",
              "      <td>куриный разделка продавать курица и куриный ра...</td>\n",
              "      <td>-1</td>\n",
              "    </tr>\n",
              "    <tr>\n",
              "      <th>2</th>\n",
              "      <td>говяжий мукоза продавать говяжий мукоза в охла...</td>\n",
              "      <td>-1</td>\n",
              "    </tr>\n",
              "  </tbody>\n",
              "</table>\n",
              "</div>\n",
              "      <button class=\"colab-df-convert\" onclick=\"convertToInteractive('df-75e7df9f-6173-4bca-bac4-c73ed95bad44')\"\n",
              "              title=\"Convert this dataframe to an interactive table.\"\n",
              "              style=\"display:none;\">\n",
              "        \n",
              "  <svg xmlns=\"http://www.w3.org/2000/svg\" height=\"24px\"viewBox=\"0 0 24 24\"\n",
              "       width=\"24px\">\n",
              "    <path d=\"M0 0h24v24H0V0z\" fill=\"none\"/>\n",
              "    <path d=\"M18.56 5.44l.94 2.06.94-2.06 2.06-.94-2.06-.94-.94-2.06-.94 2.06-2.06.94zm-11 1L8.5 8.5l.94-2.06 2.06-.94-2.06-.94L8.5 2.5l-.94 2.06-2.06.94zm10 10l.94 2.06.94-2.06 2.06-.94-2.06-.94-.94-2.06-.94 2.06-2.06.94z\"/><path d=\"M17.41 7.96l-1.37-1.37c-.4-.4-.92-.59-1.43-.59-.52 0-1.04.2-1.43.59L10.3 9.45l-7.72 7.72c-.78.78-.78 2.05 0 2.83L4 21.41c.39.39.9.59 1.41.59.51 0 1.02-.2 1.41-.59l7.78-7.78 2.81-2.81c.8-.78.8-2.07 0-2.86zM5.41 20L4 18.59l7.72-7.72 1.47 1.35L5.41 20z\"/>\n",
              "  </svg>\n",
              "      </button>\n",
              "      \n",
              "  <style>\n",
              "    .colab-df-container {\n",
              "      display:flex;\n",
              "      flex-wrap:wrap;\n",
              "      gap: 12px;\n",
              "    }\n",
              "\n",
              "    .colab-df-convert {\n",
              "      background-color: #E8F0FE;\n",
              "      border: none;\n",
              "      border-radius: 50%;\n",
              "      cursor: pointer;\n",
              "      display: none;\n",
              "      fill: #1967D2;\n",
              "      height: 32px;\n",
              "      padding: 0 0 0 0;\n",
              "      width: 32px;\n",
              "    }\n",
              "\n",
              "    .colab-df-convert:hover {\n",
              "      background-color: #E2EBFA;\n",
              "      box-shadow: 0px 1px 2px rgba(60, 64, 67, 0.3), 0px 1px 3px 1px rgba(60, 64, 67, 0.15);\n",
              "      fill: #174EA6;\n",
              "    }\n",
              "\n",
              "    [theme=dark] .colab-df-convert {\n",
              "      background-color: #3B4455;\n",
              "      fill: #D2E3FC;\n",
              "    }\n",
              "\n",
              "    [theme=dark] .colab-df-convert:hover {\n",
              "      background-color: #434B5C;\n",
              "      box-shadow: 0px 1px 3px 1px rgba(0, 0, 0, 0.15);\n",
              "      filter: drop-shadow(0px 1px 2px rgba(0, 0, 0, 0.3));\n",
              "      fill: #FFFFFF;\n",
              "    }\n",
              "  </style>\n",
              "\n",
              "      <script>\n",
              "        const buttonEl =\n",
              "          document.querySelector('#df-75e7df9f-6173-4bca-bac4-c73ed95bad44 button.colab-df-convert');\n",
              "        buttonEl.style.display =\n",
              "          google.colab.kernel.accessAllowed ? 'block' : 'none';\n",
              "\n",
              "        async function convertToInteractive(key) {\n",
              "          const element = document.querySelector('#df-75e7df9f-6173-4bca-bac4-c73ed95bad44');\n",
              "          const dataTable =\n",
              "            await google.colab.kernel.invokeFunction('convertToInteractive',\n",
              "                                                     [key], {});\n",
              "          if (!dataTable) return;\n",
              "\n",
              "          const docLinkHtml = 'Like what you see? Visit the ' +\n",
              "            '<a target=\"_blank\" href=https://colab.research.google.com/notebooks/data_table.ipynb>data table notebook</a>'\n",
              "            + ' to learn more about interactive tables.';\n",
              "          element.innerHTML = '';\n",
              "          dataTable['output_type'] = 'display_data';\n",
              "          await google.colab.output.renderOutput(dataTable, element);\n",
              "          const docLink = document.createElement('div');\n",
              "          docLink.innerHTML = docLinkHtml;\n",
              "          element.appendChild(docLink);\n",
              "        }\n",
              "      </script>\n",
              "    </div>\n",
              "  </div>\n",
              "  "
            ]
          },
          "metadata": {},
          "execution_count": 89
        }
      ]
    },
    {
      "cell_type": "code",
      "source": [
        "data_test['text'] = data_test['text'].apply(lambda x : ' '.join(re.sub(r'[^а-яА-ЯёЁ]', ' ', x.lower()).split()))\n",
        "data_test"
      ],
      "metadata": {
        "colab": {
          "base_uri": "https://localhost:8080/",
          "height": 143
        },
        "id": "TkUQgVsVz_ST",
        "outputId": "f8c18b02-3ab4-4722-a27d-7bbef3b1bba1"
      },
      "execution_count": null,
      "outputs": [
        {
          "output_type": "execute_result",
          "data": {
            "text/plain": [
              "                                                text  target\n",
              "0  говядина блочный сорт в наличие ооо агросоюз р...      -1\n",
              "1  куриный разделка продавать курица и куриный ра...      -1\n",
              "2  говяжий мукоза продавать говяжий мукоза в охла...      -1"
            ],
            "text/html": [
              "\n",
              "  <div id=\"df-fba2528f-02a0-4702-91c6-f2cfa9481977\">\n",
              "    <div class=\"colab-df-container\">\n",
              "      <div>\n",
              "<style scoped>\n",
              "    .dataframe tbody tr th:only-of-type {\n",
              "        vertical-align: middle;\n",
              "    }\n",
              "\n",
              "    .dataframe tbody tr th {\n",
              "        vertical-align: top;\n",
              "    }\n",
              "\n",
              "    .dataframe thead th {\n",
              "        text-align: right;\n",
              "    }\n",
              "</style>\n",
              "<table border=\"1\" class=\"dataframe\">\n",
              "  <thead>\n",
              "    <tr style=\"text-align: right;\">\n",
              "      <th></th>\n",
              "      <th>text</th>\n",
              "      <th>target</th>\n",
              "    </tr>\n",
              "  </thead>\n",
              "  <tbody>\n",
              "    <tr>\n",
              "      <th>0</th>\n",
              "      <td>говядина блочный сорт в наличие ооо агросоюз р...</td>\n",
              "      <td>-1</td>\n",
              "    </tr>\n",
              "    <tr>\n",
              "      <th>1</th>\n",
              "      <td>куриный разделка продавать курица и куриный ра...</td>\n",
              "      <td>-1</td>\n",
              "    </tr>\n",
              "    <tr>\n",
              "      <th>2</th>\n",
              "      <td>говяжий мукоза продавать говяжий мукоза в охла...</td>\n",
              "      <td>-1</td>\n",
              "    </tr>\n",
              "  </tbody>\n",
              "</table>\n",
              "</div>\n",
              "      <button class=\"colab-df-convert\" onclick=\"convertToInteractive('df-fba2528f-02a0-4702-91c6-f2cfa9481977')\"\n",
              "              title=\"Convert this dataframe to an interactive table.\"\n",
              "              style=\"display:none;\">\n",
              "        \n",
              "  <svg xmlns=\"http://www.w3.org/2000/svg\" height=\"24px\"viewBox=\"0 0 24 24\"\n",
              "       width=\"24px\">\n",
              "    <path d=\"M0 0h24v24H0V0z\" fill=\"none\"/>\n",
              "    <path d=\"M18.56 5.44l.94 2.06.94-2.06 2.06-.94-2.06-.94-.94-2.06-.94 2.06-2.06.94zm-11 1L8.5 8.5l.94-2.06 2.06-.94-2.06-.94L8.5 2.5l-.94 2.06-2.06.94zm10 10l.94 2.06.94-2.06 2.06-.94-2.06-.94-.94-2.06-.94 2.06-2.06.94z\"/><path d=\"M17.41 7.96l-1.37-1.37c-.4-.4-.92-.59-1.43-.59-.52 0-1.04.2-1.43.59L10.3 9.45l-7.72 7.72c-.78.78-.78 2.05 0 2.83L4 21.41c.39.39.9.59 1.41.59.51 0 1.02-.2 1.41-.59l7.78-7.78 2.81-2.81c.8-.78.8-2.07 0-2.86zM5.41 20L4 18.59l7.72-7.72 1.47 1.35L5.41 20z\"/>\n",
              "  </svg>\n",
              "      </button>\n",
              "      \n",
              "  <style>\n",
              "    .colab-df-container {\n",
              "      display:flex;\n",
              "      flex-wrap:wrap;\n",
              "      gap: 12px;\n",
              "    }\n",
              "\n",
              "    .colab-df-convert {\n",
              "      background-color: #E8F0FE;\n",
              "      border: none;\n",
              "      border-radius: 50%;\n",
              "      cursor: pointer;\n",
              "      display: none;\n",
              "      fill: #1967D2;\n",
              "      height: 32px;\n",
              "      padding: 0 0 0 0;\n",
              "      width: 32px;\n",
              "    }\n",
              "\n",
              "    .colab-df-convert:hover {\n",
              "      background-color: #E2EBFA;\n",
              "      box-shadow: 0px 1px 2px rgba(60, 64, 67, 0.3), 0px 1px 3px 1px rgba(60, 64, 67, 0.15);\n",
              "      fill: #174EA6;\n",
              "    }\n",
              "\n",
              "    [theme=dark] .colab-df-convert {\n",
              "      background-color: #3B4455;\n",
              "      fill: #D2E3FC;\n",
              "    }\n",
              "\n",
              "    [theme=dark] .colab-df-convert:hover {\n",
              "      background-color: #434B5C;\n",
              "      box-shadow: 0px 1px 3px 1px rgba(0, 0, 0, 0.15);\n",
              "      filter: drop-shadow(0px 1px 2px rgba(0, 0, 0, 0.3));\n",
              "      fill: #FFFFFF;\n",
              "    }\n",
              "  </style>\n",
              "\n",
              "      <script>\n",
              "        const buttonEl =\n",
              "          document.querySelector('#df-fba2528f-02a0-4702-91c6-f2cfa9481977 button.colab-df-convert');\n",
              "        buttonEl.style.display =\n",
              "          google.colab.kernel.accessAllowed ? 'block' : 'none';\n",
              "\n",
              "        async function convertToInteractive(key) {\n",
              "          const element = document.querySelector('#df-fba2528f-02a0-4702-91c6-f2cfa9481977');\n",
              "          const dataTable =\n",
              "            await google.colab.kernel.invokeFunction('convertToInteractive',\n",
              "                                                     [key], {});\n",
              "          if (!dataTable) return;\n",
              "\n",
              "          const docLinkHtml = 'Like what you see? Visit the ' +\n",
              "            '<a target=\"_blank\" href=https://colab.research.google.com/notebooks/data_table.ipynb>data table notebook</a>'\n",
              "            + ' to learn more about interactive tables.';\n",
              "          element.innerHTML = '';\n",
              "          dataTable['output_type'] = 'display_data';\n",
              "          await google.colab.output.renderOutput(dataTable, element);\n",
              "          const docLink = document.createElement('div');\n",
              "          docLink.innerHTML = docLinkHtml;\n",
              "          element.appendChild(docLink);\n",
              "        }\n",
              "      </script>\n",
              "    </div>\n",
              "  </div>\n",
              "  "
            ]
          },
          "metadata": {},
          "execution_count": 90
        }
      ]
    },
    {
      "cell_type": "code",
      "source": [
        "data_test_x = count_tf_idf.transform(data_test['text'])\n",
        "\n",
        "data_test_x = torch.tensor(scipy.sparse.csr_matrix.todense(data_test_x)).float()\n",
        "\n",
        "data_test_y = torch.tensor(data_test['target']).long()\n",
        "\n",
        "testing = ClassifierDataset(data_test_x, data_test_y)\n",
        "\n",
        "testing = DataLoader(dataset=testing, batch_size=1)\n"
      ],
      "metadata": {
        "id": "yze4q3B54JbB"
      },
      "execution_count": null,
      "outputs": []
    },
    {
      "cell_type": "code",
      "source": [
        "y_pred_list = []\n",
        "with torch.no_grad():\n",
        "   model.eval()\n",
        "   for X_batch,_ in testing:\n",
        "     y_test_pred = model(X_batch)\n",
        "     y_pred_softmax = torch.log_softmax(y_test_pred, dim = 1)\n",
        "     _, y_pred_tags = torch.max(y_pred_softmax, dim = 1)\n",
        "     y_pred_list.append(y_pred_tags.cpu().numpy())\n",
        "\n",
        "y_pred_list = [a.squeeze().tolist() for a in y_pred_list]\n",
        "list(le.inverse_transform(y_pred_list))"
      ],
      "metadata": {
        "colab": {
          "base_uri": "https://localhost:8080/"
        },
        "id": "pgIkPO2l2zs7",
        "outputId": "b86a0cc7-eb26-4f1d-ff21-fa01f9f658c7"
      },
      "execution_count": null,
      "outputs": [
        {
          "output_type": "execute_result",
          "data": {
            "text/plain": [
              "['говядина', 'кура', 'говядина']"
            ]
          },
          "metadata": {},
          "execution_count": 94
        }
      ]
    },
    {
      "cell_type": "markdown",
      "source": [
        "## Вывод\n",
        "Рузультат на тесте показал, что модель довольно точно определяет классы у 3 тестовых текстов"
      ],
      "metadata": {
        "id": "e74K8DHP6w5z"
      }
    },
    {
      "cell_type": "code",
      "source": [],
      "metadata": {
        "id": "409ZCj847DmU"
      },
      "execution_count": null,
      "outputs": []
    }
  ],
  "metadata": {
    "colab": {
      "provenance": [],
      "gpuType": "T4"
    },
    "kernelspec": {
      "display_name": "Python 3",
      "name": "python3"
    },
    "language_info": {
      "codemirror_mode": {
        "name": "ipython",
        "version": 3
      },
      "file_extension": ".py",
      "mimetype": "text/x-python",
      "name": "python",
      "nbconvert_exporter": "python",
      "pygments_lexer": "ipython3",
      "version": "3.10.5"
    },
    "widgets": {
      "application/vnd.jupyter.widget-state+json": {
        "6afbad3af5a74225a664fc2615bcf84a": {
          "model_module": "@jupyter-widgets/controls",
          "model_name": "HBoxModel",
          "model_module_version": "1.5.0",
          "state": {
            "_dom_classes": [],
            "_model_module": "@jupyter-widgets/controls",
            "_model_module_version": "1.5.0",
            "_model_name": "HBoxModel",
            "_view_count": null,
            "_view_module": "@jupyter-widgets/controls",
            "_view_module_version": "1.5.0",
            "_view_name": "HBoxView",
            "box_style": "",
            "children": [
              "IPY_MODEL_d2ab274497e54e6fb9f0bb251905fbb7",
              "IPY_MODEL_6a21f97696f6417e9e8403103b229783",
              "IPY_MODEL_e577c5239eb842e98417232cf96dac63"
            ],
            "layout": "IPY_MODEL_79f02884c33e4bc987f61452585303fc"
          }
        },
        "d2ab274497e54e6fb9f0bb251905fbb7": {
          "model_module": "@jupyter-widgets/controls",
          "model_name": "HTMLModel",
          "model_module_version": "1.5.0",
          "state": {
            "_dom_classes": [],
            "_model_module": "@jupyter-widgets/controls",
            "_model_module_version": "1.5.0",
            "_model_name": "HTMLModel",
            "_view_count": null,
            "_view_module": "@jupyter-widgets/controls",
            "_view_module_version": "1.5.0",
            "_view_name": "HTMLView",
            "description": "",
            "description_tooltip": null,
            "layout": "IPY_MODEL_11d9458ce8594ae88b28911ccd2b7b26",
            "placeholder": "​",
            "style": "IPY_MODEL_ab46b39203ee4570a1a1e642f4d1fb61",
            "value": "100%"
          }
        },
        "6a21f97696f6417e9e8403103b229783": {
          "model_module": "@jupyter-widgets/controls",
          "model_name": "FloatProgressModel",
          "model_module_version": "1.5.0",
          "state": {
            "_dom_classes": [],
            "_model_module": "@jupyter-widgets/controls",
            "_model_module_version": "1.5.0",
            "_model_name": "FloatProgressModel",
            "_view_count": null,
            "_view_module": "@jupyter-widgets/controls",
            "_view_module_version": "1.5.0",
            "_view_name": "ProgressView",
            "bar_style": "success",
            "description": "",
            "description_tooltip": null,
            "layout": "IPY_MODEL_e2b01a1689dc4e2ab308f977d13e74be",
            "max": 15,
            "min": 0,
            "orientation": "horizontal",
            "style": "IPY_MODEL_6d6b565ea9544f0ba3c6a4e684e199f0",
            "value": 15
          }
        },
        "e577c5239eb842e98417232cf96dac63": {
          "model_module": "@jupyter-widgets/controls",
          "model_name": "HTMLModel",
          "model_module_version": "1.5.0",
          "state": {
            "_dom_classes": [],
            "_model_module": "@jupyter-widgets/controls",
            "_model_module_version": "1.5.0",
            "_model_name": "HTMLModel",
            "_view_count": null,
            "_view_module": "@jupyter-widgets/controls",
            "_view_module_version": "1.5.0",
            "_view_name": "HTMLView",
            "description": "",
            "description_tooltip": null,
            "layout": "IPY_MODEL_91a5dfb0332a4e65ad1414abcd8c0629",
            "placeholder": "​",
            "style": "IPY_MODEL_a874807649054c67900b6f7ae1f39d3f",
            "value": " 15/15 [14:20&lt;00:00, 60.08s/it]"
          }
        },
        "79f02884c33e4bc987f61452585303fc": {
          "model_module": "@jupyter-widgets/base",
          "model_name": "LayoutModel",
          "model_module_version": "1.2.0",
          "state": {
            "_model_module": "@jupyter-widgets/base",
            "_model_module_version": "1.2.0",
            "_model_name": "LayoutModel",
            "_view_count": null,
            "_view_module": "@jupyter-widgets/base",
            "_view_module_version": "1.2.0",
            "_view_name": "LayoutView",
            "align_content": null,
            "align_items": null,
            "align_self": null,
            "border": null,
            "bottom": null,
            "display": null,
            "flex": null,
            "flex_flow": null,
            "grid_area": null,
            "grid_auto_columns": null,
            "grid_auto_flow": null,
            "grid_auto_rows": null,
            "grid_column": null,
            "grid_gap": null,
            "grid_row": null,
            "grid_template_areas": null,
            "grid_template_columns": null,
            "grid_template_rows": null,
            "height": null,
            "justify_content": null,
            "justify_items": null,
            "left": null,
            "margin": null,
            "max_height": null,
            "max_width": null,
            "min_height": null,
            "min_width": null,
            "object_fit": null,
            "object_position": null,
            "order": null,
            "overflow": null,
            "overflow_x": null,
            "overflow_y": null,
            "padding": null,
            "right": null,
            "top": null,
            "visibility": null,
            "width": null
          }
        },
        "11d9458ce8594ae88b28911ccd2b7b26": {
          "model_module": "@jupyter-widgets/base",
          "model_name": "LayoutModel",
          "model_module_version": "1.2.0",
          "state": {
            "_model_module": "@jupyter-widgets/base",
            "_model_module_version": "1.2.0",
            "_model_name": "LayoutModel",
            "_view_count": null,
            "_view_module": "@jupyter-widgets/base",
            "_view_module_version": "1.2.0",
            "_view_name": "LayoutView",
            "align_content": null,
            "align_items": null,
            "align_self": null,
            "border": null,
            "bottom": null,
            "display": null,
            "flex": null,
            "flex_flow": null,
            "grid_area": null,
            "grid_auto_columns": null,
            "grid_auto_flow": null,
            "grid_auto_rows": null,
            "grid_column": null,
            "grid_gap": null,
            "grid_row": null,
            "grid_template_areas": null,
            "grid_template_columns": null,
            "grid_template_rows": null,
            "height": null,
            "justify_content": null,
            "justify_items": null,
            "left": null,
            "margin": null,
            "max_height": null,
            "max_width": null,
            "min_height": null,
            "min_width": null,
            "object_fit": null,
            "object_position": null,
            "order": null,
            "overflow": null,
            "overflow_x": null,
            "overflow_y": null,
            "padding": null,
            "right": null,
            "top": null,
            "visibility": null,
            "width": null
          }
        },
        "ab46b39203ee4570a1a1e642f4d1fb61": {
          "model_module": "@jupyter-widgets/controls",
          "model_name": "DescriptionStyleModel",
          "model_module_version": "1.5.0",
          "state": {
            "_model_module": "@jupyter-widgets/controls",
            "_model_module_version": "1.5.0",
            "_model_name": "DescriptionStyleModel",
            "_view_count": null,
            "_view_module": "@jupyter-widgets/base",
            "_view_module_version": "1.2.0",
            "_view_name": "StyleView",
            "description_width": ""
          }
        },
        "e2b01a1689dc4e2ab308f977d13e74be": {
          "model_module": "@jupyter-widgets/base",
          "model_name": "LayoutModel",
          "model_module_version": "1.2.0",
          "state": {
            "_model_module": "@jupyter-widgets/base",
            "_model_module_version": "1.2.0",
            "_model_name": "LayoutModel",
            "_view_count": null,
            "_view_module": "@jupyter-widgets/base",
            "_view_module_version": "1.2.0",
            "_view_name": "LayoutView",
            "align_content": null,
            "align_items": null,
            "align_self": null,
            "border": null,
            "bottom": null,
            "display": null,
            "flex": null,
            "flex_flow": null,
            "grid_area": null,
            "grid_auto_columns": null,
            "grid_auto_flow": null,
            "grid_auto_rows": null,
            "grid_column": null,
            "grid_gap": null,
            "grid_row": null,
            "grid_template_areas": null,
            "grid_template_columns": null,
            "grid_template_rows": null,
            "height": null,
            "justify_content": null,
            "justify_items": null,
            "left": null,
            "margin": null,
            "max_height": null,
            "max_width": null,
            "min_height": null,
            "min_width": null,
            "object_fit": null,
            "object_position": null,
            "order": null,
            "overflow": null,
            "overflow_x": null,
            "overflow_y": null,
            "padding": null,
            "right": null,
            "top": null,
            "visibility": null,
            "width": null
          }
        },
        "6d6b565ea9544f0ba3c6a4e684e199f0": {
          "model_module": "@jupyter-widgets/controls",
          "model_name": "ProgressStyleModel",
          "model_module_version": "1.5.0",
          "state": {
            "_model_module": "@jupyter-widgets/controls",
            "_model_module_version": "1.5.0",
            "_model_name": "ProgressStyleModel",
            "_view_count": null,
            "_view_module": "@jupyter-widgets/base",
            "_view_module_version": "1.2.0",
            "_view_name": "StyleView",
            "bar_color": null,
            "description_width": ""
          }
        },
        "91a5dfb0332a4e65ad1414abcd8c0629": {
          "model_module": "@jupyter-widgets/base",
          "model_name": "LayoutModel",
          "model_module_version": "1.2.0",
          "state": {
            "_model_module": "@jupyter-widgets/base",
            "_model_module_version": "1.2.0",
            "_model_name": "LayoutModel",
            "_view_count": null,
            "_view_module": "@jupyter-widgets/base",
            "_view_module_version": "1.2.0",
            "_view_name": "LayoutView",
            "align_content": null,
            "align_items": null,
            "align_self": null,
            "border": null,
            "bottom": null,
            "display": null,
            "flex": null,
            "flex_flow": null,
            "grid_area": null,
            "grid_auto_columns": null,
            "grid_auto_flow": null,
            "grid_auto_rows": null,
            "grid_column": null,
            "grid_gap": null,
            "grid_row": null,
            "grid_template_areas": null,
            "grid_template_columns": null,
            "grid_template_rows": null,
            "height": null,
            "justify_content": null,
            "justify_items": null,
            "left": null,
            "margin": null,
            "max_height": null,
            "max_width": null,
            "min_height": null,
            "min_width": null,
            "object_fit": null,
            "object_position": null,
            "order": null,
            "overflow": null,
            "overflow_x": null,
            "overflow_y": null,
            "padding": null,
            "right": null,
            "top": null,
            "visibility": null,
            "width": null
          }
        },
        "a874807649054c67900b6f7ae1f39d3f": {
          "model_module": "@jupyter-widgets/controls",
          "model_name": "DescriptionStyleModel",
          "model_module_version": "1.5.0",
          "state": {
            "_model_module": "@jupyter-widgets/controls",
            "_model_module_version": "1.5.0",
            "_model_name": "DescriptionStyleModel",
            "_view_count": null,
            "_view_module": "@jupyter-widgets/base",
            "_view_module_version": "1.2.0",
            "_view_name": "StyleView",
            "description_width": ""
          }
        }
      }
    }
  },
  "nbformat": 4,
  "nbformat_minor": 0
}